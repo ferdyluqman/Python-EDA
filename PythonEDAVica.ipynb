{
  "nbformat": 4,
  "nbformat_minor": 0,
  "metadata": {
    "colab": {
      "name": "PythonEDAVica.ipynb",
      "provenance": [],
      "collapsed_sections": [],
      "authorship_tag": "ABX9TyOr9wj6Z72lXuJPko57dI1F",
      "include_colab_link": true
    },
    "kernelspec": {
      "name": "python3",
      "display_name": "Python 3"
    },
    "language_info": {
      "name": "python"
    }
  },
  "cells": [
    {
      "cell_type": "markdown",
      "metadata": {
        "id": "view-in-github",
        "colab_type": "text"
      },
      "source": [
        "<a href=\"https://colab.research.google.com/github/ferdyluqman/Python-EDA/blob/main/PythonEDAVica.ipynb\" target=\"_parent\"><img src=\"https://colab.research.google.com/assets/colab-badge.svg\" alt=\"Open In Colab\"/></a>"
      ]
    },
    {
      "cell_type": "markdown",
      "source": [
        "##Kelas EDA Python"
      ],
      "metadata": {
        "id": "LiaNacjN9yD7"
      }
    },
    {
      "cell_type": "markdown",
      "source": [
        "####Import Library"
      ],
      "metadata": {
        "id": "fJJ_kikp97_3"
      }
    },
    {
      "cell_type": "code",
      "source": [
        "import pandas as pd\n",
        "import numpy as np\n",
        "import seaborn as sns\n",
        "import matplotlib.pyplot as plt"
      ],
      "metadata": {
        "id": "ML_-rt8n-iLR"
      },
      "execution_count": 25,
      "outputs": []
    },
    {
      "cell_type": "markdown",
      "source": [
        "#### Connect Datasource"
      ],
      "metadata": {
        "id": "R6DhXGHWFylf"
      }
    },
    {
      "cell_type": "code",
      "source": [
        "url = \"https://raw.githubusercontent.com/KennethParulian/PythonEDAEnigmacamp/main/MOCK_DATA%20(4).csv\"\n",
        "df = pd.read_csv(url)"
      ],
      "metadata": {
        "id": "gIipWeSyHTno"
      },
      "execution_count": 26,
      "outputs": []
    },
    {
      "cell_type": "markdown",
      "source": [
        "#### Data Validation"
      ],
      "metadata": {
        "id": "YOFdIPZ2JxE7"
      }
    },
    {
      "cell_type": "code",
      "source": [
        "df.head(10)"
      ],
      "metadata": {
        "colab": {
          "base_uri": "https://localhost:8080/",
          "height": 362
        },
        "id": "uloKjP3TJ5AX",
        "outputId": "cae2eaa5-ae16-442e-b059-6b6fe32f45bf"
      },
      "execution_count": 27,
      "outputs": [
        {
          "output_type": "execute_result",
          "data": {
            "text/html": [
              "\n",
              "  <div id=\"df-cd76d6cf-095f-42c7-9a93-107832b70e2d\">\n",
              "    <div class=\"colab-df-container\">\n",
              "      <div>\n",
              "<style scoped>\n",
              "    .dataframe tbody tr th:only-of-type {\n",
              "        vertical-align: middle;\n",
              "    }\n",
              "\n",
              "    .dataframe tbody tr th {\n",
              "        vertical-align: top;\n",
              "    }\n",
              "\n",
              "    .dataframe thead th {\n",
              "        text-align: right;\n",
              "    }\n",
              "</style>\n",
              "<table border=\"1\" class=\"dataframe\">\n",
              "  <thead>\n",
              "    <tr style=\"text-align: right;\">\n",
              "      <th></th>\n",
              "      <th>id</th>\n",
              "      <th>first_name</th>\n",
              "      <th>last_name</th>\n",
              "      <th>email</th>\n",
              "      <th>gender</th>\n",
              "      <th>CreditCardNumber</th>\n",
              "      <th>CreditCardLimit</th>\n",
              "    </tr>\n",
              "  </thead>\n",
              "  <tbody>\n",
              "    <tr>\n",
              "      <th>0</th>\n",
              "      <td>1</td>\n",
              "      <td>Esdras</td>\n",
              "      <td>Woof</td>\n",
              "      <td>ewoof0@cyberchimps.com</td>\n",
              "      <td>Genderfluid</td>\n",
              "      <td>5464400705962728</td>\n",
              "      <td>$267373.54</td>\n",
              "    </tr>\n",
              "    <tr>\n",
              "      <th>1</th>\n",
              "      <td>2</td>\n",
              "      <td>Dayle</td>\n",
              "      <td>Dorkin</td>\n",
              "      <td>ddorkin1@rambler.ru</td>\n",
              "      <td>Female</td>\n",
              "      <td>3570835748616573</td>\n",
              "      <td>$279212.84</td>\n",
              "    </tr>\n",
              "    <tr>\n",
              "      <th>2</th>\n",
              "      <td>3</td>\n",
              "      <td>Darb</td>\n",
              "      <td>Poll</td>\n",
              "      <td>dpoll2@github.io</td>\n",
              "      <td>Genderqueer</td>\n",
              "      <td>3543523413407981</td>\n",
              "      <td>$220606.83</td>\n",
              "    </tr>\n",
              "    <tr>\n",
              "      <th>3</th>\n",
              "      <td>4</td>\n",
              "      <td>Tanitansy</td>\n",
              "      <td>Allanby</td>\n",
              "      <td>tallanby3@mac.com</td>\n",
              "      <td>Female</td>\n",
              "      <td>3583780889066680</td>\n",
              "      <td>$6645.06</td>\n",
              "    </tr>\n",
              "    <tr>\n",
              "      <th>4</th>\n",
              "      <td>5</td>\n",
              "      <td>Lon</td>\n",
              "      <td>Bachura</td>\n",
              "      <td>lbachura4@bizjournals.com</td>\n",
              "      <td>Male</td>\n",
              "      <td>30017073265876</td>\n",
              "      <td>$327407.09</td>\n",
              "    </tr>\n",
              "    <tr>\n",
              "      <th>5</th>\n",
              "      <td>6</td>\n",
              "      <td>Boycie</td>\n",
              "      <td>Beed</td>\n",
              "      <td>bbeed5@nifty.com</td>\n",
              "      <td>Female</td>\n",
              "      <td>372301317645465</td>\n",
              "      <td>$279914.84</td>\n",
              "    </tr>\n",
              "    <tr>\n",
              "      <th>6</th>\n",
              "      <td>7</td>\n",
              "      <td>Alejandra</td>\n",
              "      <td>Gleeson</td>\n",
              "      <td>agleeson6@1und1.de</td>\n",
              "      <td>Male</td>\n",
              "      <td>4508401219202214</td>\n",
              "      <td>$168005.20</td>\n",
              "    </tr>\n",
              "    <tr>\n",
              "      <th>7</th>\n",
              "      <td>8</td>\n",
              "      <td>Terrye</td>\n",
              "      <td>Gilford</td>\n",
              "      <td>tgilford7@huffingtonpost.com</td>\n",
              "      <td>Female</td>\n",
              "      <td>4405945696289817</td>\n",
              "      <td>$114715.15</td>\n",
              "    </tr>\n",
              "    <tr>\n",
              "      <th>8</th>\n",
              "      <td>9</td>\n",
              "      <td>Petr</td>\n",
              "      <td>Turmall</td>\n",
              "      <td>pturmall8@bizjournals.com</td>\n",
              "      <td>Female</td>\n",
              "      <td>3540676954417331</td>\n",
              "      <td>$223906.99</td>\n",
              "    </tr>\n",
              "    <tr>\n",
              "      <th>9</th>\n",
              "      <td>10</td>\n",
              "      <td>Vin</td>\n",
              "      <td>Grass</td>\n",
              "      <td>vgrass9@github.io</td>\n",
              "      <td>Male</td>\n",
              "      <td>3564766951377629</td>\n",
              "      <td>$232814.86</td>\n",
              "    </tr>\n",
              "  </tbody>\n",
              "</table>\n",
              "</div>\n",
              "      <button class=\"colab-df-convert\" onclick=\"convertToInteractive('df-cd76d6cf-095f-42c7-9a93-107832b70e2d')\"\n",
              "              title=\"Convert this dataframe to an interactive table.\"\n",
              "              style=\"display:none;\">\n",
              "        \n",
              "  <svg xmlns=\"http://www.w3.org/2000/svg\" height=\"24px\"viewBox=\"0 0 24 24\"\n",
              "       width=\"24px\">\n",
              "    <path d=\"M0 0h24v24H0V0z\" fill=\"none\"/>\n",
              "    <path d=\"M18.56 5.44l.94 2.06.94-2.06 2.06-.94-2.06-.94-.94-2.06-.94 2.06-2.06.94zm-11 1L8.5 8.5l.94-2.06 2.06-.94-2.06-.94L8.5 2.5l-.94 2.06-2.06.94zm10 10l.94 2.06.94-2.06 2.06-.94-2.06-.94-.94-2.06-.94 2.06-2.06.94z\"/><path d=\"M17.41 7.96l-1.37-1.37c-.4-.4-.92-.59-1.43-.59-.52 0-1.04.2-1.43.59L10.3 9.45l-7.72 7.72c-.78.78-.78 2.05 0 2.83L4 21.41c.39.39.9.59 1.41.59.51 0 1.02-.2 1.41-.59l7.78-7.78 2.81-2.81c.8-.78.8-2.07 0-2.86zM5.41 20L4 18.59l7.72-7.72 1.47 1.35L5.41 20z\"/>\n",
              "  </svg>\n",
              "      </button>\n",
              "      \n",
              "  <style>\n",
              "    .colab-df-container {\n",
              "      display:flex;\n",
              "      flex-wrap:wrap;\n",
              "      gap: 12px;\n",
              "    }\n",
              "\n",
              "    .colab-df-convert {\n",
              "      background-color: #E8F0FE;\n",
              "      border: none;\n",
              "      border-radius: 50%;\n",
              "      cursor: pointer;\n",
              "      display: none;\n",
              "      fill: #1967D2;\n",
              "      height: 32px;\n",
              "      padding: 0 0 0 0;\n",
              "      width: 32px;\n",
              "    }\n",
              "\n",
              "    .colab-df-convert:hover {\n",
              "      background-color: #E2EBFA;\n",
              "      box-shadow: 0px 1px 2px rgba(60, 64, 67, 0.3), 0px 1px 3px 1px rgba(60, 64, 67, 0.15);\n",
              "      fill: #174EA6;\n",
              "    }\n",
              "\n",
              "    [theme=dark] .colab-df-convert {\n",
              "      background-color: #3B4455;\n",
              "      fill: #D2E3FC;\n",
              "    }\n",
              "\n",
              "    [theme=dark] .colab-df-convert:hover {\n",
              "      background-color: #434B5C;\n",
              "      box-shadow: 0px 1px 3px 1px rgba(0, 0, 0, 0.15);\n",
              "      filter: drop-shadow(0px 1px 2px rgba(0, 0, 0, 0.3));\n",
              "      fill: #FFFFFF;\n",
              "    }\n",
              "  </style>\n",
              "\n",
              "      <script>\n",
              "        const buttonEl =\n",
              "          document.querySelector('#df-cd76d6cf-095f-42c7-9a93-107832b70e2d button.colab-df-convert');\n",
              "        buttonEl.style.display =\n",
              "          google.colab.kernel.accessAllowed ? 'block' : 'none';\n",
              "\n",
              "        async function convertToInteractive(key) {\n",
              "          const element = document.querySelector('#df-cd76d6cf-095f-42c7-9a93-107832b70e2d');\n",
              "          const dataTable =\n",
              "            await google.colab.kernel.invokeFunction('convertToInteractive',\n",
              "                                                     [key], {});\n",
              "          if (!dataTable) return;\n",
              "\n",
              "          const docLinkHtml = 'Like what you see? Visit the ' +\n",
              "            '<a target=\"_blank\" href=https://colab.research.google.com/notebooks/data_table.ipynb>data table notebook</a>'\n",
              "            + ' to learn more about interactive tables.';\n",
              "          element.innerHTML = '';\n",
              "          dataTable['output_type'] = 'display_data';\n",
              "          await google.colab.output.renderOutput(dataTable, element);\n",
              "          const docLink = document.createElement('div');\n",
              "          docLink.innerHTML = docLinkHtml;\n",
              "          element.appendChild(docLink);\n",
              "        }\n",
              "      </script>\n",
              "    </div>\n",
              "  </div>\n",
              "  "
            ],
            "text/plain": [
              "   id first_name last_name  ...       gender  CreditCardNumber  CreditCardLimit\n",
              "0   1     Esdras      Woof  ...  Genderfluid  5464400705962728       $267373.54\n",
              "1   2      Dayle    Dorkin  ...       Female  3570835748616573       $279212.84\n",
              "2   3       Darb      Poll  ...  Genderqueer  3543523413407981       $220606.83\n",
              "3   4  Tanitansy   Allanby  ...       Female  3583780889066680         $6645.06\n",
              "4   5        Lon   Bachura  ...         Male    30017073265876       $327407.09\n",
              "5   6     Boycie      Beed  ...       Female   372301317645465       $279914.84\n",
              "6   7  Alejandra   Gleeson  ...         Male  4508401219202214       $168005.20\n",
              "7   8     Terrye   Gilford  ...       Female  4405945696289817       $114715.15\n",
              "8   9       Petr   Turmall  ...       Female  3540676954417331       $223906.99\n",
              "9  10        Vin     Grass  ...         Male  3564766951377629       $232814.86\n",
              "\n",
              "[10 rows x 7 columns]"
            ]
          },
          "metadata": {},
          "execution_count": 27
        }
      ]
    },
    {
      "cell_type": "markdown",
      "source": [
        "#### Rename Kolom Data"
      ],
      "metadata": {
        "id": "5HjKyeEiUPzx"
      }
    },
    {
      "cell_type": "code",
      "source": [
        "df = df.rename({'CreditCardNumber':'credit_card_number','CreditCardLimit':'credit_card_limit'}, axis=1)"
      ],
      "metadata": {
        "id": "343H1JSQSYgv"
      },
      "execution_count": 28,
      "outputs": []
    },
    {
      "cell_type": "markdown",
      "source": [
        "#### Menambahkan Kolom Beserta Data (Random)"
      ],
      "metadata": {
        "id": "5CGieYvKUXX_"
      }
    },
    {
      "cell_type": "code",
      "source": [
        "df['credit_rating'] = np.random.randint(1, 10, df.shape[0])\n",
        "\n",
        "df.head(10)"
      ],
      "metadata": {
        "colab": {
          "base_uri": "https://localhost:8080/",
          "height": 362
        },
        "id": "DZuNc_sERyHG",
        "outputId": "06a63d6b-0566-43ba-faed-d5cb33f9e9db"
      },
      "execution_count": 29,
      "outputs": [
        {
          "output_type": "execute_result",
          "data": {
            "text/html": [
              "\n",
              "  <div id=\"df-27c654a9-49b2-407a-9ed9-594fa0a09f41\">\n",
              "    <div class=\"colab-df-container\">\n",
              "      <div>\n",
              "<style scoped>\n",
              "    .dataframe tbody tr th:only-of-type {\n",
              "        vertical-align: middle;\n",
              "    }\n",
              "\n",
              "    .dataframe tbody tr th {\n",
              "        vertical-align: top;\n",
              "    }\n",
              "\n",
              "    .dataframe thead th {\n",
              "        text-align: right;\n",
              "    }\n",
              "</style>\n",
              "<table border=\"1\" class=\"dataframe\">\n",
              "  <thead>\n",
              "    <tr style=\"text-align: right;\">\n",
              "      <th></th>\n",
              "      <th>id</th>\n",
              "      <th>first_name</th>\n",
              "      <th>last_name</th>\n",
              "      <th>email</th>\n",
              "      <th>gender</th>\n",
              "      <th>credit_card_number</th>\n",
              "      <th>credit_card_limit</th>\n",
              "      <th>credit_rating</th>\n",
              "    </tr>\n",
              "  </thead>\n",
              "  <tbody>\n",
              "    <tr>\n",
              "      <th>0</th>\n",
              "      <td>1</td>\n",
              "      <td>Esdras</td>\n",
              "      <td>Woof</td>\n",
              "      <td>ewoof0@cyberchimps.com</td>\n",
              "      <td>Genderfluid</td>\n",
              "      <td>5464400705962728</td>\n",
              "      <td>$267373.54</td>\n",
              "      <td>3</td>\n",
              "    </tr>\n",
              "    <tr>\n",
              "      <th>1</th>\n",
              "      <td>2</td>\n",
              "      <td>Dayle</td>\n",
              "      <td>Dorkin</td>\n",
              "      <td>ddorkin1@rambler.ru</td>\n",
              "      <td>Female</td>\n",
              "      <td>3570835748616573</td>\n",
              "      <td>$279212.84</td>\n",
              "      <td>6</td>\n",
              "    </tr>\n",
              "    <tr>\n",
              "      <th>2</th>\n",
              "      <td>3</td>\n",
              "      <td>Darb</td>\n",
              "      <td>Poll</td>\n",
              "      <td>dpoll2@github.io</td>\n",
              "      <td>Genderqueer</td>\n",
              "      <td>3543523413407981</td>\n",
              "      <td>$220606.83</td>\n",
              "      <td>1</td>\n",
              "    </tr>\n",
              "    <tr>\n",
              "      <th>3</th>\n",
              "      <td>4</td>\n",
              "      <td>Tanitansy</td>\n",
              "      <td>Allanby</td>\n",
              "      <td>tallanby3@mac.com</td>\n",
              "      <td>Female</td>\n",
              "      <td>3583780889066680</td>\n",
              "      <td>$6645.06</td>\n",
              "      <td>6</td>\n",
              "    </tr>\n",
              "    <tr>\n",
              "      <th>4</th>\n",
              "      <td>5</td>\n",
              "      <td>Lon</td>\n",
              "      <td>Bachura</td>\n",
              "      <td>lbachura4@bizjournals.com</td>\n",
              "      <td>Male</td>\n",
              "      <td>30017073265876</td>\n",
              "      <td>$327407.09</td>\n",
              "      <td>6</td>\n",
              "    </tr>\n",
              "    <tr>\n",
              "      <th>5</th>\n",
              "      <td>6</td>\n",
              "      <td>Boycie</td>\n",
              "      <td>Beed</td>\n",
              "      <td>bbeed5@nifty.com</td>\n",
              "      <td>Female</td>\n",
              "      <td>372301317645465</td>\n",
              "      <td>$279914.84</td>\n",
              "      <td>3</td>\n",
              "    </tr>\n",
              "    <tr>\n",
              "      <th>6</th>\n",
              "      <td>7</td>\n",
              "      <td>Alejandra</td>\n",
              "      <td>Gleeson</td>\n",
              "      <td>agleeson6@1und1.de</td>\n",
              "      <td>Male</td>\n",
              "      <td>4508401219202214</td>\n",
              "      <td>$168005.20</td>\n",
              "      <td>5</td>\n",
              "    </tr>\n",
              "    <tr>\n",
              "      <th>7</th>\n",
              "      <td>8</td>\n",
              "      <td>Terrye</td>\n",
              "      <td>Gilford</td>\n",
              "      <td>tgilford7@huffingtonpost.com</td>\n",
              "      <td>Female</td>\n",
              "      <td>4405945696289817</td>\n",
              "      <td>$114715.15</td>\n",
              "      <td>4</td>\n",
              "    </tr>\n",
              "    <tr>\n",
              "      <th>8</th>\n",
              "      <td>9</td>\n",
              "      <td>Petr</td>\n",
              "      <td>Turmall</td>\n",
              "      <td>pturmall8@bizjournals.com</td>\n",
              "      <td>Female</td>\n",
              "      <td>3540676954417331</td>\n",
              "      <td>$223906.99</td>\n",
              "      <td>3</td>\n",
              "    </tr>\n",
              "    <tr>\n",
              "      <th>9</th>\n",
              "      <td>10</td>\n",
              "      <td>Vin</td>\n",
              "      <td>Grass</td>\n",
              "      <td>vgrass9@github.io</td>\n",
              "      <td>Male</td>\n",
              "      <td>3564766951377629</td>\n",
              "      <td>$232814.86</td>\n",
              "      <td>3</td>\n",
              "    </tr>\n",
              "  </tbody>\n",
              "</table>\n",
              "</div>\n",
              "      <button class=\"colab-df-convert\" onclick=\"convertToInteractive('df-27c654a9-49b2-407a-9ed9-594fa0a09f41')\"\n",
              "              title=\"Convert this dataframe to an interactive table.\"\n",
              "              style=\"display:none;\">\n",
              "        \n",
              "  <svg xmlns=\"http://www.w3.org/2000/svg\" height=\"24px\"viewBox=\"0 0 24 24\"\n",
              "       width=\"24px\">\n",
              "    <path d=\"M0 0h24v24H0V0z\" fill=\"none\"/>\n",
              "    <path d=\"M18.56 5.44l.94 2.06.94-2.06 2.06-.94-2.06-.94-.94-2.06-.94 2.06-2.06.94zm-11 1L8.5 8.5l.94-2.06 2.06-.94-2.06-.94L8.5 2.5l-.94 2.06-2.06.94zm10 10l.94 2.06.94-2.06 2.06-.94-2.06-.94-.94-2.06-.94 2.06-2.06.94z\"/><path d=\"M17.41 7.96l-1.37-1.37c-.4-.4-.92-.59-1.43-.59-.52 0-1.04.2-1.43.59L10.3 9.45l-7.72 7.72c-.78.78-.78 2.05 0 2.83L4 21.41c.39.39.9.59 1.41.59.51 0 1.02-.2 1.41-.59l7.78-7.78 2.81-2.81c.8-.78.8-2.07 0-2.86zM5.41 20L4 18.59l7.72-7.72 1.47 1.35L5.41 20z\"/>\n",
              "  </svg>\n",
              "      </button>\n",
              "      \n",
              "  <style>\n",
              "    .colab-df-container {\n",
              "      display:flex;\n",
              "      flex-wrap:wrap;\n",
              "      gap: 12px;\n",
              "    }\n",
              "\n",
              "    .colab-df-convert {\n",
              "      background-color: #E8F0FE;\n",
              "      border: none;\n",
              "      border-radius: 50%;\n",
              "      cursor: pointer;\n",
              "      display: none;\n",
              "      fill: #1967D2;\n",
              "      height: 32px;\n",
              "      padding: 0 0 0 0;\n",
              "      width: 32px;\n",
              "    }\n",
              "\n",
              "    .colab-df-convert:hover {\n",
              "      background-color: #E2EBFA;\n",
              "      box-shadow: 0px 1px 2px rgba(60, 64, 67, 0.3), 0px 1px 3px 1px rgba(60, 64, 67, 0.15);\n",
              "      fill: #174EA6;\n",
              "    }\n",
              "\n",
              "    [theme=dark] .colab-df-convert {\n",
              "      background-color: #3B4455;\n",
              "      fill: #D2E3FC;\n",
              "    }\n",
              "\n",
              "    [theme=dark] .colab-df-convert:hover {\n",
              "      background-color: #434B5C;\n",
              "      box-shadow: 0px 1px 3px 1px rgba(0, 0, 0, 0.15);\n",
              "      filter: drop-shadow(0px 1px 2px rgba(0, 0, 0, 0.3));\n",
              "      fill: #FFFFFF;\n",
              "    }\n",
              "  </style>\n",
              "\n",
              "      <script>\n",
              "        const buttonEl =\n",
              "          document.querySelector('#df-27c654a9-49b2-407a-9ed9-594fa0a09f41 button.colab-df-convert');\n",
              "        buttonEl.style.display =\n",
              "          google.colab.kernel.accessAllowed ? 'block' : 'none';\n",
              "\n",
              "        async function convertToInteractive(key) {\n",
              "          const element = document.querySelector('#df-27c654a9-49b2-407a-9ed9-594fa0a09f41');\n",
              "          const dataTable =\n",
              "            await google.colab.kernel.invokeFunction('convertToInteractive',\n",
              "                                                     [key], {});\n",
              "          if (!dataTable) return;\n",
              "\n",
              "          const docLinkHtml = 'Like what you see? Visit the ' +\n",
              "            '<a target=\"_blank\" href=https://colab.research.google.com/notebooks/data_table.ipynb>data table notebook</a>'\n",
              "            + ' to learn more about interactive tables.';\n",
              "          element.innerHTML = '';\n",
              "          dataTable['output_type'] = 'display_data';\n",
              "          await google.colab.output.renderOutput(dataTable, element);\n",
              "          const docLink = document.createElement('div');\n",
              "          docLink.innerHTML = docLinkHtml;\n",
              "          element.appendChild(docLink);\n",
              "        }\n",
              "      </script>\n",
              "    </div>\n",
              "  </div>\n",
              "  "
            ],
            "text/plain": [
              "   id first_name last_name  ... credit_card_number credit_card_limit  credit_rating\n",
              "0   1     Esdras      Woof  ...   5464400705962728        $267373.54              3\n",
              "1   2      Dayle    Dorkin  ...   3570835748616573        $279212.84              6\n",
              "2   3       Darb      Poll  ...   3543523413407981        $220606.83              1\n",
              "3   4  Tanitansy   Allanby  ...   3583780889066680          $6645.06              6\n",
              "4   5        Lon   Bachura  ...     30017073265876        $327407.09              6\n",
              "5   6     Boycie      Beed  ...    372301317645465        $279914.84              3\n",
              "6   7  Alejandra   Gleeson  ...   4508401219202214        $168005.20              5\n",
              "7   8     Terrye   Gilford  ...   4405945696289817        $114715.15              4\n",
              "8   9       Petr   Turmall  ...   3540676954417331        $223906.99              3\n",
              "9  10        Vin     Grass  ...   3564766951377629        $232814.86              3\n",
              "\n",
              "[10 rows x 8 columns]"
            ]
          },
          "metadata": {},
          "execution_count": 29
        }
      ]
    },
    {
      "cell_type": "markdown",
      "source": [
        "####Information Of Dataset"
      ],
      "metadata": {
        "id": "kgnEDEz6HkDw"
      }
    },
    {
      "cell_type": "code",
      "source": [
        "df.info()"
      ],
      "metadata": {
        "colab": {
          "base_uri": "https://localhost:8080/"
        },
        "id": "nL91nwAjL8XU",
        "outputId": "26f93015-793e-4fbe-f4a1-2162fb1402fa"
      },
      "execution_count": 30,
      "outputs": [
        {
          "output_type": "stream",
          "name": "stdout",
          "text": [
            "<class 'pandas.core.frame.DataFrame'>\n",
            "RangeIndex: 1000 entries, 0 to 999\n",
            "Data columns (total 8 columns):\n",
            " #   Column              Non-Null Count  Dtype \n",
            "---  ------              --------------  ----- \n",
            " 0   id                  1000 non-null   int64 \n",
            " 1   first_name          1000 non-null   object\n",
            " 2   last_name           1000 non-null   object\n",
            " 3   email               1000 non-null   object\n",
            " 4   gender              1000 non-null   object\n",
            " 5   credit_card_number  1000 non-null   int64 \n",
            " 6   credit_card_limit   977 non-null    object\n",
            " 7   credit_rating       1000 non-null   int64 \n",
            "dtypes: int64(3), object(5)\n",
            "memory usage: 62.6+ KB\n"
          ]
        }
      ]
    },
    {
      "cell_type": "markdown",
      "source": [
        "#### Duplicated Data Handling"
      ],
      "metadata": {
        "id": "KR8pVXKqHou0"
      }
    },
    {
      "cell_type": "code",
      "source": [
        "df.duplicated(subset=None, keep='first')"
      ],
      "metadata": {
        "colab": {
          "base_uri": "https://localhost:8080/"
        },
        "id": "D_dDfMMGMrqJ",
        "outputId": "ca2efe55-ee6e-4548-c6ae-02a7c16ef72a"
      },
      "execution_count": 31,
      "outputs": [
        {
          "output_type": "execute_result",
          "data": {
            "text/plain": [
              "0      False\n",
              "1      False\n",
              "2      False\n",
              "3      False\n",
              "4      False\n",
              "       ...  \n",
              "995    False\n",
              "996    False\n",
              "997    False\n",
              "998    False\n",
              "999    False\n",
              "Length: 1000, dtype: bool"
            ]
          },
          "metadata": {},
          "execution_count": 31
        }
      ]
    },
    {
      "cell_type": "markdown",
      "source": [
        "#### Drop Unnecesary Data"
      ],
      "metadata": {
        "id": "kq74Of7dHvAl"
      }
    },
    {
      "cell_type": "code",
      "source": [
        "df.drop(\"email\", axis=1, inplace=True)"
      ],
      "metadata": {
        "id": "J-CO6fX5Gtgx"
      },
      "execution_count": 32,
      "outputs": []
    },
    {
      "cell_type": "code",
      "source": [
        "df.head(10)"
      ],
      "metadata": {
        "colab": {
          "base_uri": "https://localhost:8080/",
          "height": 362
        },
        "id": "-yej5kJAG5LB",
        "outputId": "90fa8ab7-1a14-402b-f4d9-843104cb72fd"
      },
      "execution_count": 33,
      "outputs": [
        {
          "output_type": "execute_result",
          "data": {
            "text/html": [
              "\n",
              "  <div id=\"df-66fe4cd9-c0fb-4274-ac11-dc37b35a955e\">\n",
              "    <div class=\"colab-df-container\">\n",
              "      <div>\n",
              "<style scoped>\n",
              "    .dataframe tbody tr th:only-of-type {\n",
              "        vertical-align: middle;\n",
              "    }\n",
              "\n",
              "    .dataframe tbody tr th {\n",
              "        vertical-align: top;\n",
              "    }\n",
              "\n",
              "    .dataframe thead th {\n",
              "        text-align: right;\n",
              "    }\n",
              "</style>\n",
              "<table border=\"1\" class=\"dataframe\">\n",
              "  <thead>\n",
              "    <tr style=\"text-align: right;\">\n",
              "      <th></th>\n",
              "      <th>id</th>\n",
              "      <th>first_name</th>\n",
              "      <th>last_name</th>\n",
              "      <th>gender</th>\n",
              "      <th>credit_card_number</th>\n",
              "      <th>credit_card_limit</th>\n",
              "      <th>credit_rating</th>\n",
              "    </tr>\n",
              "  </thead>\n",
              "  <tbody>\n",
              "    <tr>\n",
              "      <th>0</th>\n",
              "      <td>1</td>\n",
              "      <td>Esdras</td>\n",
              "      <td>Woof</td>\n",
              "      <td>Genderfluid</td>\n",
              "      <td>5464400705962728</td>\n",
              "      <td>$267373.54</td>\n",
              "      <td>3</td>\n",
              "    </tr>\n",
              "    <tr>\n",
              "      <th>1</th>\n",
              "      <td>2</td>\n",
              "      <td>Dayle</td>\n",
              "      <td>Dorkin</td>\n",
              "      <td>Female</td>\n",
              "      <td>3570835748616573</td>\n",
              "      <td>$279212.84</td>\n",
              "      <td>6</td>\n",
              "    </tr>\n",
              "    <tr>\n",
              "      <th>2</th>\n",
              "      <td>3</td>\n",
              "      <td>Darb</td>\n",
              "      <td>Poll</td>\n",
              "      <td>Genderqueer</td>\n",
              "      <td>3543523413407981</td>\n",
              "      <td>$220606.83</td>\n",
              "      <td>1</td>\n",
              "    </tr>\n",
              "    <tr>\n",
              "      <th>3</th>\n",
              "      <td>4</td>\n",
              "      <td>Tanitansy</td>\n",
              "      <td>Allanby</td>\n",
              "      <td>Female</td>\n",
              "      <td>3583780889066680</td>\n",
              "      <td>$6645.06</td>\n",
              "      <td>6</td>\n",
              "    </tr>\n",
              "    <tr>\n",
              "      <th>4</th>\n",
              "      <td>5</td>\n",
              "      <td>Lon</td>\n",
              "      <td>Bachura</td>\n",
              "      <td>Male</td>\n",
              "      <td>30017073265876</td>\n",
              "      <td>$327407.09</td>\n",
              "      <td>6</td>\n",
              "    </tr>\n",
              "    <tr>\n",
              "      <th>5</th>\n",
              "      <td>6</td>\n",
              "      <td>Boycie</td>\n",
              "      <td>Beed</td>\n",
              "      <td>Female</td>\n",
              "      <td>372301317645465</td>\n",
              "      <td>$279914.84</td>\n",
              "      <td>3</td>\n",
              "    </tr>\n",
              "    <tr>\n",
              "      <th>6</th>\n",
              "      <td>7</td>\n",
              "      <td>Alejandra</td>\n",
              "      <td>Gleeson</td>\n",
              "      <td>Male</td>\n",
              "      <td>4508401219202214</td>\n",
              "      <td>$168005.20</td>\n",
              "      <td>5</td>\n",
              "    </tr>\n",
              "    <tr>\n",
              "      <th>7</th>\n",
              "      <td>8</td>\n",
              "      <td>Terrye</td>\n",
              "      <td>Gilford</td>\n",
              "      <td>Female</td>\n",
              "      <td>4405945696289817</td>\n",
              "      <td>$114715.15</td>\n",
              "      <td>4</td>\n",
              "    </tr>\n",
              "    <tr>\n",
              "      <th>8</th>\n",
              "      <td>9</td>\n",
              "      <td>Petr</td>\n",
              "      <td>Turmall</td>\n",
              "      <td>Female</td>\n",
              "      <td>3540676954417331</td>\n",
              "      <td>$223906.99</td>\n",
              "      <td>3</td>\n",
              "    </tr>\n",
              "    <tr>\n",
              "      <th>9</th>\n",
              "      <td>10</td>\n",
              "      <td>Vin</td>\n",
              "      <td>Grass</td>\n",
              "      <td>Male</td>\n",
              "      <td>3564766951377629</td>\n",
              "      <td>$232814.86</td>\n",
              "      <td>3</td>\n",
              "    </tr>\n",
              "  </tbody>\n",
              "</table>\n",
              "</div>\n",
              "      <button class=\"colab-df-convert\" onclick=\"convertToInteractive('df-66fe4cd9-c0fb-4274-ac11-dc37b35a955e')\"\n",
              "              title=\"Convert this dataframe to an interactive table.\"\n",
              "              style=\"display:none;\">\n",
              "        \n",
              "  <svg xmlns=\"http://www.w3.org/2000/svg\" height=\"24px\"viewBox=\"0 0 24 24\"\n",
              "       width=\"24px\">\n",
              "    <path d=\"M0 0h24v24H0V0z\" fill=\"none\"/>\n",
              "    <path d=\"M18.56 5.44l.94 2.06.94-2.06 2.06-.94-2.06-.94-.94-2.06-.94 2.06-2.06.94zm-11 1L8.5 8.5l.94-2.06 2.06-.94-2.06-.94L8.5 2.5l-.94 2.06-2.06.94zm10 10l.94 2.06.94-2.06 2.06-.94-2.06-.94-.94-2.06-.94 2.06-2.06.94z\"/><path d=\"M17.41 7.96l-1.37-1.37c-.4-.4-.92-.59-1.43-.59-.52 0-1.04.2-1.43.59L10.3 9.45l-7.72 7.72c-.78.78-.78 2.05 0 2.83L4 21.41c.39.39.9.59 1.41.59.51 0 1.02-.2 1.41-.59l7.78-7.78 2.81-2.81c.8-.78.8-2.07 0-2.86zM5.41 20L4 18.59l7.72-7.72 1.47 1.35L5.41 20z\"/>\n",
              "  </svg>\n",
              "      </button>\n",
              "      \n",
              "  <style>\n",
              "    .colab-df-container {\n",
              "      display:flex;\n",
              "      flex-wrap:wrap;\n",
              "      gap: 12px;\n",
              "    }\n",
              "\n",
              "    .colab-df-convert {\n",
              "      background-color: #E8F0FE;\n",
              "      border: none;\n",
              "      border-radius: 50%;\n",
              "      cursor: pointer;\n",
              "      display: none;\n",
              "      fill: #1967D2;\n",
              "      height: 32px;\n",
              "      padding: 0 0 0 0;\n",
              "      width: 32px;\n",
              "    }\n",
              "\n",
              "    .colab-df-convert:hover {\n",
              "      background-color: #E2EBFA;\n",
              "      box-shadow: 0px 1px 2px rgba(60, 64, 67, 0.3), 0px 1px 3px 1px rgba(60, 64, 67, 0.15);\n",
              "      fill: #174EA6;\n",
              "    }\n",
              "\n",
              "    [theme=dark] .colab-df-convert {\n",
              "      background-color: #3B4455;\n",
              "      fill: #D2E3FC;\n",
              "    }\n",
              "\n",
              "    [theme=dark] .colab-df-convert:hover {\n",
              "      background-color: #434B5C;\n",
              "      box-shadow: 0px 1px 3px 1px rgba(0, 0, 0, 0.15);\n",
              "      filter: drop-shadow(0px 1px 2px rgba(0, 0, 0, 0.3));\n",
              "      fill: #FFFFFF;\n",
              "    }\n",
              "  </style>\n",
              "\n",
              "      <script>\n",
              "        const buttonEl =\n",
              "          document.querySelector('#df-66fe4cd9-c0fb-4274-ac11-dc37b35a955e button.colab-df-convert');\n",
              "        buttonEl.style.display =\n",
              "          google.colab.kernel.accessAllowed ? 'block' : 'none';\n",
              "\n",
              "        async function convertToInteractive(key) {\n",
              "          const element = document.querySelector('#df-66fe4cd9-c0fb-4274-ac11-dc37b35a955e');\n",
              "          const dataTable =\n",
              "            await google.colab.kernel.invokeFunction('convertToInteractive',\n",
              "                                                     [key], {});\n",
              "          if (!dataTable) return;\n",
              "\n",
              "          const docLinkHtml = 'Like what you see? Visit the ' +\n",
              "            '<a target=\"_blank\" href=https://colab.research.google.com/notebooks/data_table.ipynb>data table notebook</a>'\n",
              "            + ' to learn more about interactive tables.';\n",
              "          element.innerHTML = '';\n",
              "          dataTable['output_type'] = 'display_data';\n",
              "          await google.colab.output.renderOutput(dataTable, element);\n",
              "          const docLink = document.createElement('div');\n",
              "          docLink.innerHTML = docLinkHtml;\n",
              "          element.appendChild(docLink);\n",
              "        }\n",
              "      </script>\n",
              "    </div>\n",
              "  </div>\n",
              "  "
            ],
            "text/plain": [
              "   id first_name last_name  ... credit_card_number  credit_card_limit credit_rating\n",
              "0   1     Esdras      Woof  ...   5464400705962728         $267373.54             3\n",
              "1   2      Dayle    Dorkin  ...   3570835748616573         $279212.84             6\n",
              "2   3       Darb      Poll  ...   3543523413407981         $220606.83             1\n",
              "3   4  Tanitansy   Allanby  ...   3583780889066680           $6645.06             6\n",
              "4   5        Lon   Bachura  ...     30017073265876         $327407.09             6\n",
              "5   6     Boycie      Beed  ...    372301317645465         $279914.84             3\n",
              "6   7  Alejandra   Gleeson  ...   4508401219202214         $168005.20             5\n",
              "7   8     Terrye   Gilford  ...   4405945696289817         $114715.15             4\n",
              "8   9       Petr   Turmall  ...   3540676954417331         $223906.99             3\n",
              "9  10        Vin     Grass  ...   3564766951377629         $232814.86             3\n",
              "\n",
              "[10 rows x 7 columns]"
            ]
          },
          "metadata": {},
          "execution_count": 33
        }
      ]
    },
    {
      "cell_type": "code",
      "source": [
        "print(df.isnull().sum())"
      ],
      "metadata": {
        "colab": {
          "base_uri": "https://localhost:8080/"
        },
        "id": "GQH3006XK9wL",
        "outputId": "d28e9e2d-f71a-42b8-a757-bd5d269ac4aa"
      },
      "execution_count": 34,
      "outputs": [
        {
          "output_type": "stream",
          "name": "stdout",
          "text": [
            "id                     0\n",
            "first_name             0\n",
            "last_name              0\n",
            "gender                 0\n",
            "credit_card_number     0\n",
            "credit_card_limit     23\n",
            "credit_rating          0\n",
            "dtype: int64\n"
          ]
        }
      ]
    },
    {
      "cell_type": "code",
      "source": [
        "df = df.dropna()\n",
        "\n",
        "df.count()"
      ],
      "metadata": {
        "colab": {
          "base_uri": "https://localhost:8080/"
        },
        "id": "NK-xM1eTLX1t",
        "outputId": "d72d4417-1a18-4541-fe82-7f079f3d93c5"
      },
      "execution_count": 35,
      "outputs": [
        {
          "output_type": "execute_result",
          "data": {
            "text/plain": [
              "id                    977\n",
              "first_name            977\n",
              "last_name             977\n",
              "gender                977\n",
              "credit_card_number    977\n",
              "credit_card_limit     977\n",
              "credit_rating         977\n",
              "dtype: int64"
            ]
          },
          "metadata": {},
          "execution_count": 35
        }
      ]
    },
    {
      "cell_type": "markdown",
      "source": [
        "#### Rubah Tipe Data"
      ],
      "metadata": {
        "id": "NAgcqVqlcKbP"
      }
    },
    {
      "cell_type": "code",
      "source": [
        "df['credit_card_limit'] = df['credit_card_limit'].replace('[\\$\\,\\.]','',regex=True).astype(int)"
      ],
      "metadata": {
        "id": "KRprQZLFb2GJ"
      },
      "execution_count": 37,
      "outputs": []
    },
    {
      "cell_type": "code",
      "source": [
        "df.info()"
      ],
      "metadata": {
        "colab": {
          "base_uri": "https://localhost:8080/"
        },
        "id": "Wg512Ygpjct9",
        "outputId": "7f219434-ffe9-4324-be0a-2ac8ef56ff88"
      },
      "execution_count": 38,
      "outputs": [
        {
          "output_type": "stream",
          "name": "stdout",
          "text": [
            "<class 'pandas.core.frame.DataFrame'>\n",
            "Int64Index: 977 entries, 0 to 999\n",
            "Data columns (total 7 columns):\n",
            " #   Column              Non-Null Count  Dtype \n",
            "---  ------              --------------  ----- \n",
            " 0   id                  977 non-null    int64 \n",
            " 1   first_name          977 non-null    object\n",
            " 2   last_name           977 non-null    object\n",
            " 3   gender              977 non-null    object\n",
            " 4   credit_card_number  977 non-null    int64 \n",
            " 5   credit_card_limit   977 non-null    int64 \n",
            " 6   credit_rating       977 non-null    int64 \n",
            "dtypes: int64(4), object(3)\n",
            "memory usage: 61.1+ KB\n"
          ]
        }
      ]
    },
    {
      "cell_type": "markdown",
      "source": [
        "#### Visualisasi Data"
      ],
      "metadata": {
        "id": "u5igS6Sqi9D6"
      }
    },
    {
      "cell_type": "code",
      "source": [
        "fig, ax = plt.subplots(figsize=(10,8))\n",
        "\n",
        "plt.bar(df['gender'], df['credit_card_limit'], align='center')\n",
        "plt.ylabel('Credit Card Limit')\n",
        "plt.xlabel('Gender')\n",
        "plt.title('Hubungan Antara Gender Dengan Credit Card Limit')\n",
        "plt.show()"
      ],
      "metadata": {
        "colab": {
          "base_uri": "https://localhost:8080/",
          "height": 512
        },
        "id": "IXj5FPJKjCxZ",
        "outputId": "13bb8bea-aad2-4bfc-a267-0062548d3ecd"
      },
      "execution_count": 57,
      "outputs": [
        {
          "output_type": "display_data",
          "data": {
            "image/png": "[encoded data removed]",
            "text/plain": [
              "<Figure size 720x576 with 1 Axes>"
            ]
          },
          "metadata": {
            "needs_background": "light"
          }
        }
      ]
    },
    {
      "cell_type": "markdown",
      "source": [
        "Bisa dilihat pada grafik diatas kalau **Gender Laki-laki dan Perempuan tulen** memiliki **Credit Card Limit Tertinggi**. Sedangkan **Gender Baru** memiliki **Credit Card Limit Dibawahnya**."
      ],
      "metadata": {
        "id": "_8sL_Yy7mWoD"
      }
    }
  ]
}